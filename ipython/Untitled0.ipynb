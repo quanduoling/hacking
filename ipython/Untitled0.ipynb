{
 "metadata": {
  "name": "",
  "signature": "sha256:4357d060e859a8980b9dc0fce9006a677ee73d1cb02ac7e92a500ee7deb7412e"
 },
 "nbformat": 3,
 "nbformat_minor": 0,
 "worksheets": [
  {
   "cells": [
    {
     "cell_type": "code",
     "collapsed": false,
     "input": [
      "import os"
     ],
     "language": "python",
     "metadata": {},
     "outputs": [],
     "prompt_number": 87
    },
    {
     "cell_type": "code",
     "collapsed": false,
     "input": [
      "response = os.popen(\"curl -u vida:t2tTPsCasO https://dogfood.staging.cloud.databricks.com:34563/api/1.0/clusters/list\").read()\n",
      "print response"
     ],
     "language": "python",
     "metadata": {},
     "outputs": [
      {
       "output_type": "stream",
       "stream": "stdout",
       "text": [
        "[{\"id\":\"gateGait\",\"name\":\"elastic-job-101013851119462d856609f7e7fbd452-run-873267dd88704b6196411a1a5230e66e\",\"status\":\"Running\",\"driverIp\":\"10.0.157.179\",\"jdbcPort\":10000,\"numWorkers\":0},{\"id\":\"stainRowel\",\"name\":\"elastic-job-5fdad201c7d84f118644c308990c7823-run-047cdcb543e54b51bf3b843486522eb2\",\"status\":\"Running\",\"driverIp\":\"10.0.178.54\",\"jdbcPort\":10000,\"numWorkers\":2},{\"id\":\"roodsPaid\",\"name\":\"Pat's Spot (Enter if you dare)\",\"status\":\"Running\",\"driverIp\":\"10.0.161.139\",\"jdbcPort\":10000,\"numWorkers\":2},{\"id\":\"grateSleds\",\"name\":\"elastic-job-b2ab70af504844e2ad1d5960b57cb226-run-75e73b4c964a4941bec5dce99bf2bfac\",\"status\":\"Running\",\"driverIp\":\"10.0.144.233\",\"jdbcPort\":10000,\"numWorkers\":0},{\"id\":\"weighGills\",\"name\":\"Default Cluster\",\"status\":\"Running\",\"driverIp\":\"10.0.210.16\",\"jdbcPort\":10000,\"numWorkers\":5},{\"id\":\"gutCarve\",\"name\":\"elastic-job-2f2cf8e29af9456cb1447f9e144e25ec-run-102004e6ed7e4605b7d658fce46b2b69\",\"status\":\"Running\",\"driverIp\":\"10.0.144.237\",\"jdbcPort\":10000,\"numWorkers\":0},{\"id\":\"batVenom\",\"name\":\"Mini-Cluster\",\"status\":\"Running\",\"driverIp\":\"10.0.236.4\",\"jdbcPort\":10000,\"numWorkers\":2},{\"id\":\"sunnyTufts\",\"name\":\"elastic-job-f6f2aea1ee744e4990cc01dbd21b7257-run-967de4d6e6d64febb94f107374bc09d8\",\"status\":\"Running\",\"driverIp\":\"10.0.182.241\",\"jdbcPort\":10000,\"numWorkers\":0},{\"id\":\"noneNode\",\"name\":\"parviz\",\"status\":\"Running\",\"driverIp\":\"10.0.254.63\",\"jdbcPort\":10000,\"numWorkers\":1}]\n",
        "\n"
       ]
      }
     ],
     "prompt_number": 173
    },
    {
     "cell_type": "code",
     "collapsed": false,
     "input": [
      "import json\n",
      "print json.dumps(json.loads(response), sort_keys=True, indent=4, separators=(',', ': '))"
     ],
     "language": "python",
     "metadata": {},
     "outputs": [
      {
       "output_type": "stream",
       "stream": "stdout",
       "text": [
        "[\n",
        "    {\n",
        "        \"driverIp\": \"10.0.157.179\",\n",
        "        \"id\": \"gateGait\",\n",
        "        \"jdbcPort\": 10000,\n",
        "        \"name\": \"elastic-job-101013851119462d856609f7e7fbd452-run-873267dd88704b6196411a1a5230e66e\",\n",
        "        \"numWorkers\": 0,\n",
        "        \"status\": \"Running\"\n",
        "    },\n",
        "    {\n",
        "        \"driverIp\": \"10.0.178.54\",\n",
        "        \"id\": \"stainRowel\",\n",
        "        \"jdbcPort\": 10000,\n",
        "        \"name\": \"elastic-job-5fdad201c7d84f118644c308990c7823-run-047cdcb543e54b51bf3b843486522eb2\",\n",
        "        \"numWorkers\": 2,\n",
        "        \"status\": \"Running\"\n",
        "    },\n",
        "    {\n",
        "        \"driverIp\": \"10.0.161.139\",\n",
        "        \"id\": \"roodsPaid\",\n",
        "        \"jdbcPort\": 10000,\n",
        "        \"name\": \"Pat's Spot (Enter if you dare)\",\n",
        "        \"numWorkers\": 2,\n",
        "        \"status\": \"Running\"\n",
        "    },\n",
        "    {\n",
        "        \"driverIp\": \"10.0.144.233\",\n",
        "        \"id\": \"grateSleds\",\n",
        "        \"jdbcPort\": 10000,\n",
        "        \"name\": \"elastic-job-b2ab70af504844e2ad1d5960b57cb226-run-75e73b4c964a4941bec5dce99bf2bfac\",\n",
        "        \"numWorkers\": 0,\n",
        "        \"status\": \"Running\"\n",
        "    },\n",
        "    {\n",
        "        \"driverIp\": \"10.0.210.16\",\n",
        "        \"id\": \"weighGills\",\n",
        "        \"jdbcPort\": 10000,\n",
        "        \"name\": \"Default Cluster\",\n",
        "        \"numWorkers\": 5,\n",
        "        \"status\": \"Running\"\n",
        "    },\n",
        "    {\n",
        "        \"driverIp\": \"10.0.144.237\",\n",
        "        \"id\": \"gutCarve\",\n",
        "        \"jdbcPort\": 10000,\n",
        "        \"name\": \"elastic-job-2f2cf8e29af9456cb1447f9e144e25ec-run-102004e6ed7e4605b7d658fce46b2b69\",\n",
        "        \"numWorkers\": 0,\n",
        "        \"status\": \"Running\"\n",
        "    },\n",
        "    {\n",
        "        \"driverIp\": \"10.0.236.4\",\n",
        "        \"id\": \"batVenom\",\n",
        "        \"jdbcPort\": 10000,\n",
        "        \"name\": \"Mini-Cluster\",\n",
        "        \"numWorkers\": 2,\n",
        "        \"status\": \"Running\"\n",
        "    },\n",
        "    {\n",
        "        \"driverIp\": \"10.0.182.241\",\n",
        "        \"id\": \"sunnyTufts\",\n",
        "        \"jdbcPort\": 10000,\n",
        "        \"name\": \"elastic-job-f6f2aea1ee744e4990cc01dbd21b7257-run-967de4d6e6d64febb94f107374bc09d8\",\n",
        "        \"numWorkers\": 0,\n",
        "        \"status\": \"Running\"\n",
        "    },\n",
        "    {\n",
        "        \"driverIp\": \"10.0.254.63\",\n",
        "        \"id\": \"noneNode\",\n",
        "        \"jdbcPort\": 10000,\n",
        "        \"name\": \"parviz\",\n",
        "        \"numWorkers\": 1,\n",
        "        \"status\": \"Running\"\n",
        "    }\n",
        "]\n"
       ]
      }
     ],
     "prompt_number": 174
    },
    {
     "cell_type": "code",
     "collapsed": false,
     "input": [
      "libraries_response = os.popen(\"curl -u vida:t2tTPsCasO https://dogfood.staging.cloud.databricks.com:34563/api/1.0/libraries/list?clusterId=batVenom\").read()\n",
      "print libraries_response"
     ],
     "language": "python",
     "metadata": {},
     "outputs": [
      {
       "output_type": "stream",
       "stream": "stdout",
       "text": [
        "[{\"name\":\"343ed59d_f153_49fd_a29c_aeb255d5ed98-opencsv_2.3.jar\",\"status\":\"LibraryLoaded\"},{\"name\":\"496a0779_86fd_40d7_b898_050953fbe9cb-pyscythe_0.1.0_py2.7.egg\",\"status\":\"LibraryLoaded\"},{\"name\":\"e84b899b_f3ec_4ddc_8bf1_a850656ecce5-test.jar\",\"status\":\"LibraryLoaded\"},{\"name\":\"782c87ac32770b4499ac6b81b4a5beb9-ali_foobar.jar\",\"status\":\"LibraryLoaded\"},{\"name\":\"14c118a9_c349_4022_9927_a916901a9811-jira_rest_java_client_core_2.0.0_m19.jar\",\"status\":\"LibraryLoaded\"},{\"name\":\"58fd65e2_7289_4297_834f_b5bf9219c413-chill_avro_0.5.0.jar\",\"status\":\"LibraryLoaded\"},{\"name\":\"1134f681_5497_4aaa_87c0_069df4d98e0c-postgresql_9.3_1101_jdbc4.jar\",\"status\":\"LibraryLoaded\"},{\"name\":\"cf089cc6177554a5b56f28cb184297a4-joda-money-0.9.1.jar\",\"status\":\"LibraryLoaded\"},{\"name\":\"c58e90e6_33b7_4db0_90b4_b1a74ad65cf0-adexamples.egg\",\"status\":\"LibraryLoaded\"},{\"name\":\"45267ef8_b50f_4d40_835a_027133bb7654-redshift_input_format_2.10_0.1.jar\",\"status\":\"LibraryLoaded\"},{\"name\":\"bb2d137d0cd5043c072b8b541e089ea6-joda_time_2.5.jar\",\"status\":\"LibraryLoaded\"},{\"name\":\"4ac59290_7d91_4da9_8516_1c7db339b0c6-btf_1.0.jar\",\"status\":\"LibraryLoaded\"},{\"name\":\"c82f8872_285d_4ccc_aff8_b1695408333c-testoutput.jar\",\"status\":\"LibraryLoaded\"},{\"name\":\"b7efebde_aa83_4e99_813f_645cfdabe7f0-abbot.jar\",\"status\":\"LibraryLoaded\"},{\"name\":\"582c9b9b_6cdb_411c_958a_c584438049a9-myupper.jar\",\"status\":\"LibraryLoaded\"},{\"name\":\"ef0a1fb8_7f50_4af0_bc8d_00c561b00b31-mockito_all.jar\",\"status\":\"LibraryLoaded\"},{\"name\":\"cfb81e893a86d663b9d9111a8579c7b5-test.jar\",\"status\":\"LibraryLoaded\"},{\"name\":\"473423a7_921f_41a1_b2a7_63999ce3f07e-HelloWorld_0.1_py2.7.egg\",\"status\":\"LibraryLoaded\"},{\"name\":\"fa5a8851_dec4_46ad_993d_751d27c6138c-natty_0.9.jar\",\"status\":\"LibraryLoaded\"},{\"name\":\"c8953dcc_dec8_46bb_8c96_a6f7325dc7c1-freemarker.jar\",\"status\":\"LibraryLoaded\"},{\"name\":\"6e84ff10914c49c02f0fe24ea03b3866-HackerNewsAPI-0.1.0-py2.7.egg\",\"status\":\"LibraryLoaded\"},{\"name\":\"3f9f006a_793e_48ff_b318_c25204488eff-ad_csv_serde_1.1.2_0.11.0_all.jar\",\"status\":\"LibraryLoaded\"},{\"name\":\"4e1ebbba6386306ff960b2a4649340a3-spark-als_2.10-0.1-SNAPSHOT.jar\",\"status\":\"LibraryLoaded\"},{\"name\":\"04e50afa_0258_4749_adcb_121f48ece5b5-hive_contrib_0.12.0.jar\",\"status\":\"LibraryLoaded\"},{\"name\":\"5170abf9_1d98_4fca_bd56_a5ec7cd93239-testoutput.jar\",\"status\":\"LibraryLoaded\"},{\"name\":\"5832ab41_abcc_47cc_bd90_7306632225f6-addedFile58765105555958237487a1961ad3109331261189abf35b36224_3dReportsCore.jar\",\"status\":\"LibraryLoaded\"},{\"name\":\"7a76dac3_2f47_4a39_a9d8_b0e64d04d2c5-opentable.jar\",\"status\":\"LibraryLoaded\"},{\"name\":\"517ef050_e0ca_4ae3_b0ea_03cbb2b61cf9-HelloWorld_0.1_py2.7.egg\",\"status\":\"LibraryLoaded\"},{\"name\":\"93577e57a7bff5527ed7f23b1ac4c42a-json4s-ast_2.10-3.2.10.jar\",\"status\":\"LibraryLoaded\"},{\"name\":\"f24ad68a_b32e_4bc8_ac5b_4d9e35af3d42-elasticsearch_hadoop_2.1.0.Beta3__1_.jar\",\"status\":\"LibraryLoaded\"},{\"name\":\"7cf568ff_b826_4145_898d_c46f8a6353b9-spark_perf_tests_assembly.jar\",\"status\":\"LibraryLoaded\"},{\"name\":\"db3f71a2bd2bf35527eacce416de769b-BeautifulSoup-3.2.1-py2.7.egg\",\"status\":\"LibraryLoaded\"},{\"name\":\"285b111a_43cd_4f67_91be_99baf661f78e-test.jar\",\"status\":\"LibraryLoaded\"},{\"name\":\"96ff8954541db15176e4040e4323f6eb-space_space.jar\",\"status\":\"LibraryLoaded\"},{\"name\":\"04a027fbb40cc17402ddf836c2c488dc-adexamples.egg\",\"status\":\"LibraryLoaded\"},{\"name\":\"8992fba9_97d8_4bbe_bc37_78f40fc23486-allConvivaCode.jar\",\"status\":\"LibraryLoaded\"},{\"name\":\"aa4dce40b5cf466c9915ae01282be703-foo.jar\",\"status\":\"LibraryLoaded\"},{\"name\":\"d0218d4d1eb920f320f25f8f9bf3666b-jar2_2.10-1.0.jar\",\"status\":\"LibraryLoaded\"},{\"name\":\"fc879971_41a1_448d_9949_21b432b6014b-redshift_input_format_2.10_0.1_SNAPSHOT.jar\",\"status\":\"LibraryLoaded\"}]\n",
        "\n"
       ]
      }
     ],
     "prompt_number": 175
    },
    {
     "cell_type": "code",
     "collapsed": false,
     "input": [
      "print json.dumps(json.loads(libraries_response), sort_keys=True, indent=4, separators=(',', ': '))"
     ],
     "language": "python",
     "metadata": {},
     "outputs": [
      {
       "output_type": "stream",
       "stream": "stdout",
       "text": [
        "[\n",
        "    {\n",
        "        \"name\": \"343ed59d_f153_49fd_a29c_aeb255d5ed98-opencsv_2.3.jar\",\n",
        "        \"status\": \"LibraryLoaded\"\n",
        "    },\n",
        "    {\n",
        "        \"name\": \"496a0779_86fd_40d7_b898_050953fbe9cb-pyscythe_0.1.0_py2.7.egg\",\n",
        "        \"status\": \"LibraryLoaded\"\n",
        "    },\n",
        "    {\n",
        "        \"name\": \"e84b899b_f3ec_4ddc_8bf1_a850656ecce5-test.jar\",\n",
        "        \"status\": \"LibraryLoaded\"\n",
        "    },\n",
        "    {\n",
        "        \"name\": \"782c87ac32770b4499ac6b81b4a5beb9-ali_foobar.jar\",\n",
        "        \"status\": \"LibraryLoaded\"\n",
        "    },\n",
        "    {\n",
        "        \"name\": \"14c118a9_c349_4022_9927_a916901a9811-jira_rest_java_client_core_2.0.0_m19.jar\",\n",
        "        \"status\": \"LibraryLoaded\"\n",
        "    },\n",
        "    {\n",
        "        \"name\": \"58fd65e2_7289_4297_834f_b5bf9219c413-chill_avro_0.5.0.jar\",\n",
        "        \"status\": \"LibraryLoaded\"\n",
        "    },\n",
        "    {\n",
        "        \"name\": \"1134f681_5497_4aaa_87c0_069df4d98e0c-postgresql_9.3_1101_jdbc4.jar\",\n",
        "        \"status\": \"LibraryLoaded\"\n",
        "    },\n",
        "    {\n",
        "        \"name\": \"cf089cc6177554a5b56f28cb184297a4-joda-money-0.9.1.jar\",\n",
        "        \"status\": \"LibraryLoaded\"\n",
        "    },\n",
        "    {\n",
        "        \"name\": \"c58e90e6_33b7_4db0_90b4_b1a74ad65cf0-adexamples.egg\",\n",
        "        \"status\": \"LibraryLoaded\"\n",
        "    },\n",
        "    {\n",
        "        \"name\": \"45267ef8_b50f_4d40_835a_027133bb7654-redshift_input_format_2.10_0.1.jar\",\n",
        "        \"status\": \"LibraryLoaded\"\n",
        "    },\n",
        "    {\n",
        "        \"name\": \"bb2d137d0cd5043c072b8b541e089ea6-joda_time_2.5.jar\",\n",
        "        \"status\": \"LibraryLoaded\"\n",
        "    },\n",
        "    {\n",
        "        \"name\": \"4ac59290_7d91_4da9_8516_1c7db339b0c6-btf_1.0.jar\",\n",
        "        \"status\": \"LibraryLoaded\"\n",
        "    },\n",
        "    {\n",
        "        \"name\": \"c82f8872_285d_4ccc_aff8_b1695408333c-testoutput.jar\",\n",
        "        \"status\": \"LibraryLoaded\"\n",
        "    },\n",
        "    {\n",
        "        \"name\": \"b7efebde_aa83_4e99_813f_645cfdabe7f0-abbot.jar\",\n",
        "        \"status\": \"LibraryLoaded\"\n",
        "    },\n",
        "    {\n",
        "        \"name\": \"582c9b9b_6cdb_411c_958a_c584438049a9-myupper.jar\",\n",
        "        \"status\": \"LibraryLoaded\"\n",
        "    },\n",
        "    {\n",
        "        \"name\": \"ef0a1fb8_7f50_4af0_bc8d_00c561b00b31-mockito_all.jar\",\n",
        "        \"status\": \"LibraryLoaded\"\n",
        "    },\n",
        "    {\n",
        "        \"name\": \"cfb81e893a86d663b9d9111a8579c7b5-test.jar\",\n",
        "        \"status\": \"LibraryLoaded\"\n",
        "    },\n",
        "    {\n",
        "        \"name\": \"473423a7_921f_41a1_b2a7_63999ce3f07e-HelloWorld_0.1_py2.7.egg\",\n",
        "        \"status\": \"LibraryLoaded\"\n",
        "    },\n",
        "    {\n",
        "        \"name\": \"fa5a8851_dec4_46ad_993d_751d27c6138c-natty_0.9.jar\",\n",
        "        \"status\": \"LibraryLoaded\"\n",
        "    },\n",
        "    {\n",
        "        \"name\": \"c8953dcc_dec8_46bb_8c96_a6f7325dc7c1-freemarker.jar\",\n",
        "        \"status\": \"LibraryLoaded\"\n",
        "    },\n",
        "    {\n",
        "        \"name\": \"6e84ff10914c49c02f0fe24ea03b3866-HackerNewsAPI-0.1.0-py2.7.egg\",\n",
        "        \"status\": \"LibraryLoaded\"\n",
        "    },\n",
        "    {\n",
        "        \"name\": \"3f9f006a_793e_48ff_b318_c25204488eff-ad_csv_serde_1.1.2_0.11.0_all.jar\",\n",
        "        \"status\": \"LibraryLoaded\"\n",
        "    },\n",
        "    {\n",
        "        \"name\": \"4e1ebbba6386306ff960b2a4649340a3-spark-als_2.10-0.1-SNAPSHOT.jar\",\n",
        "        \"status\": \"LibraryLoaded\"\n",
        "    },\n",
        "    {\n",
        "        \"name\": \"04e50afa_0258_4749_adcb_121f48ece5b5-hive_contrib_0.12.0.jar\",\n",
        "        \"status\": \"LibraryLoaded\"\n",
        "    },\n",
        "    {\n",
        "        \"name\": \"5170abf9_1d98_4fca_bd56_a5ec7cd93239-testoutput.jar\",\n",
        "        \"status\": \"LibraryLoaded\"\n",
        "    },\n",
        "    {\n",
        "        \"name\": \"5832ab41_abcc_47cc_bd90_7306632225f6-addedFile58765105555958237487a1961ad3109331261189abf35b36224_3dReportsCore.jar\",\n",
        "        \"status\": \"LibraryLoaded\"\n",
        "    },\n",
        "    {\n",
        "        \"name\": \"7a76dac3_2f47_4a39_a9d8_b0e64d04d2c5-opentable.jar\",\n",
        "        \"status\": \"LibraryLoaded\"\n",
        "    },\n",
        "    {\n",
        "        \"name\": \"517ef050_e0ca_4ae3_b0ea_03cbb2b61cf9-HelloWorld_0.1_py2.7.egg\",\n",
        "        \"status\": \"LibraryLoaded\"\n",
        "    },\n",
        "    {\n",
        "        \"name\": \"93577e57a7bff5527ed7f23b1ac4c42a-json4s-ast_2.10-3.2.10.jar\",\n",
        "        \"status\": \"LibraryLoaded\"\n",
        "    },\n",
        "    {\n",
        "        \"name\": \"f24ad68a_b32e_4bc8_ac5b_4d9e35af3d42-elasticsearch_hadoop_2.1.0.Beta3__1_.jar\",\n",
        "        \"status\": \"LibraryLoaded\"\n",
        "    },\n",
        "    {\n",
        "        \"name\": \"7cf568ff_b826_4145_898d_c46f8a6353b9-spark_perf_tests_assembly.jar\",\n",
        "        \"status\": \"LibraryLoaded\"\n",
        "    },\n",
        "    {\n",
        "        \"name\": \"db3f71a2bd2bf35527eacce416de769b-BeautifulSoup-3.2.1-py2.7.egg\",\n",
        "        \"status\": \"LibraryLoaded\"\n",
        "    },\n",
        "    {\n",
        "        \"name\": \"285b111a_43cd_4f67_91be_99baf661f78e-test.jar\",\n",
        "        \"status\": \"LibraryLoaded\"\n",
        "    },\n",
        "    {\n",
        "        \"name\": \"96ff8954541db15176e4040e4323f6eb-space_space.jar\",\n",
        "        \"status\": \"LibraryLoaded\"\n",
        "    },\n",
        "    {\n",
        "        \"name\": \"04a027fbb40cc17402ddf836c2c488dc-adexamples.egg\",\n",
        "        \"status\": \"LibraryLoaded\"\n",
        "    },\n",
        "    {\n",
        "        \"name\": \"8992fba9_97d8_4bbe_bc37_78f40fc23486-allConvivaCode.jar\",\n",
        "        \"status\": \"LibraryLoaded\"\n",
        "    },\n",
        "    {\n",
        "        \"name\": \"aa4dce40b5cf466c9915ae01282be703-foo.jar\",\n",
        "        \"status\": \"LibraryLoaded\"\n",
        "    },\n",
        "    {\n",
        "        \"name\": \"d0218d4d1eb920f320f25f8f9bf3666b-jar2_2.10-1.0.jar\",\n",
        "        \"status\": \"LibraryLoaded\"\n",
        "    },\n",
        "    {\n",
        "        \"name\": \"fc879971_41a1_448d_9949_21b432b6014b-redshift_input_format_2.10_0.1_SNAPSHOT.jar\",\n",
        "        \"status\": \"LibraryLoaded\"\n",
        "    }\n",
        "]\n"
       ]
      }
     ],
     "prompt_number": 176
    },
    {
     "cell_type": "code",
     "collapsed": false,
     "input": [
      "libupload_response = os.popen(\"curl -X POST -u vida:t2tTPsCasO https://dogfood.staging.cloud.databricks.com:34563/api/1.0/libraries/upload -F language=scala -F clusterId=batVenom -F name=LogAnalyzer5 -F uri=@/Users/vida/Downloads/log-analyzer-1.0.jar\").read()\n",
      "print libupload_response"
     ],
     "language": "python",
     "metadata": {},
     "outputs": [
      {
       "output_type": "stream",
       "stream": "stdout",
       "text": [
        "{\"name\":\"LogAnalyzer5\",\"uri\":\"dbfs:/FileStore/jars/ed82b876_7d7d_4393_b8db_ce2bd3e6f558-log_analyzer_1.0.jar\"}\n",
        "\n"
       ]
      }
     ],
     "prompt_number": 190
    },
    {
     "cell_type": "code",
     "collapsed": false,
     "input": [
      "print json.dumps(json.loads(libupload_response), sort_keys=True, indent=4, separators=(',', ': '))"
     ],
     "language": "python",
     "metadata": {},
     "outputs": [
      {
       "output_type": "stream",
       "stream": "stdout",
       "text": [
        "{\n",
        "    \"name\": \"LogAnalyzer5\",\n",
        "    \"uri\": \"dbfs:/FileStore/jars/ed82b876_7d7d_4393_b8db_ce2bd3e6f558-log_analyzer_1.0.jar\"\n",
        "}\n"
       ]
      }
     ],
     "prompt_number": 191
    },
    {
     "cell_type": "code",
     "collapsed": false,
     "input": [
      "createContextResponse = os.popen(\"curl -X POST -u vida:t2tTPsCasO https://dogfood.staging.cloud.databricks.com:34563/api/1.0/contexts/create -d \\\"language=scala&clusterId=batVenom\\\"\").read()\n",
      "print json.dumps(json.loads(createContextResponse), sort_keys=True, indent=4, separators=(',', ': '))"
     ],
     "language": "python",
     "metadata": {},
     "outputs": [
      {
       "output_type": "stream",
       "stream": "stdout",
       "text": [
        "{\n",
        "    \"id\": \"3558513128163162828\"\n",
        "}\n"
       ]
      }
     ],
     "prompt_number": 192
    },
    {
     "cell_type": "code",
     "collapsed": false,
     "input": [
      "runCommand = os.popen(\"curl -X POST -u vida:t2tTPsCasO https://dogfood.staging.cloud.databricks.com:34563/api/1.0/commands/execute -d 'language=scala&clusterId=batVenom&contextId=3558513128163162828&command=println(com.databricks.apps.logs.chapter1.LogAnalyzer.processLogFile(sc,null,\\\"dbfs:/vida/apache.access.log\\\"))'\").read()\n",
      "print json.dumps(json.loads(runCommand), sort_keys=True, indent=4, separators=(',', ': '))"
     ],
     "language": "python",
     "metadata": {},
     "outputs": [
      {
       "output_type": "stream",
       "stream": "stdout",
       "text": [
        "{\n",
        "    \"id\": \"4538242203822083978\"\n",
        "}\n"
       ]
      }
     ],
     "prompt_number": 193
    },
    {
     "cell_type": "code",
     "collapsed": false,
     "input": [
      "runResults = os.popen(\"curl -u vida:t2tTPsCasO 'https://dogfood.staging.cloud.databricks.com:34563/api/1.0/commands/status?clusterId=batVenom&contextId=3558513128163162828&commandId=4538242203822083978'\").read()\n",
      "print json.dumps(json.loads(runResults), sort_keys=True, indent=4, separators=(',', ': '))"
     ],
     "language": "python",
     "metadata": {},
     "outputs": [
      {
       "output_type": "stream",
       "stream": "stdout",
       "text": [
        "{\n",
        "    \"id\": \"4538242203822083978\",\n",
        "    \"results\": {\n",
        "        \"data\": \"Content Size Avg: 1234, Min: 1234, Max: 1234\",\n",
        "        \"resultType\": \"text\"\n",
        "    },\n",
        "    \"status\": \"Finished\"\n",
        "}\n"
       ]
      }
     ],
     "prompt_number": 195
    },
    {
     "cell_type": "code",
     "collapsed": false,
     "input": [],
     "language": "python",
     "metadata": {},
     "outputs": []
    }
   ],
   "metadata": {}
  }
 ]
}